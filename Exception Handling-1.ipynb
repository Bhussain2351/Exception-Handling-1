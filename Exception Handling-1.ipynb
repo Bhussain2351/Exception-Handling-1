{
 "cells": [
  {
   "cell_type": "code",
   "execution_count": 2,
   "id": "ed9a76de-a01e-4938-8726-4b9aab5b3207",
   "metadata": {},
   "outputs": [],
   "source": [
    "# An exception is an error that can be handled by programmer. All exceptions occur only at run time"
   ]
  },
  {
   "cell_type": "code",
   "execution_count": 3,
   "id": "188f7413-fb87-471f-9e90-4c81f8ff3dff",
   "metadata": {},
   "outputs": [],
   "source": [
    "# A syntax error just like a grammatical error in any language . In Comparison, an exception is a \n",
    "# condition that interrupts the normal flow of the program."
   ]
  },
  {
   "cell_type": "code",
   "execution_count": 4,
   "id": "2b431316-0332-4e74-99ec-07e731a2a3ac",
   "metadata": {},
   "outputs": [],
   "source": [
    "# when except block cannot handle the exception then finally block will handle.\n",
    "# Finally block always handle errors."
   ]
  },
  {
   "cell_type": "code",
   "execution_count": 6,
   "id": "3a8cdd15-3147-469f-a8c5-6f999e3a7910",
   "metadata": {},
   "outputs": [
    {
     "name": "stdout",
     "output_type": "stream",
     "text": [
      "division by zero\n",
      " this is my erro\n"
     ]
    }
   ],
   "source": [
    "# Example\n",
    "\n",
    "try:\n",
    "    45/0\n",
    "    \n",
    "except Exception as e :\n",
    "    print(e)\n",
    "finally :\n",
    "    print (\" this is my erro\")\n",
    "    \n",
    "# finally block will alway handle error"
   ]
  },
  {
   "cell_type": "code",
   "execution_count": 9,
   "id": "3a57504b-3432-4fc2-a7e0-46b6b9fe610e",
   "metadata": {},
   "outputs": [
    {
     "name": "stdout",
     "output_type": "stream",
     "text": [
      " Second element = 2\n"
     ]
    }
   ],
   "source": [
    "# Try and except statements are used to catch and handle exceptions in Python. Statements that can raise exceptions \n",
    "# are kept inside the try clause and the statements that handle the exception are written inside except clause\n",
    "\n",
    "# example:\n",
    "\n",
    "a= [ 1,2,3]\n",
    "\n",
    "try :\n",
    "    print (\" Second element = %d\" %(a[1]))\n",
    "           \n",
    "except:\n",
    "    print ( \" An error occured\")\n",
    "           "
   ]
  },
  {
   "cell_type": "code",
   "execution_count": 13,
   "id": "5f742105-5c08-4b45-ba2d-c3dbae810a8f",
   "metadata": {},
   "outputs": [],
   "source": [
    "# The try block lets you test a block of code for errors. \n",
    "\n",
    "# example \n",
    "\n",
    "try :\n",
    "    def square(n):\n",
    "        return n**2\n",
    "except :\n",
    "    print( \" this is my square function\")\n",
    "    \n",
    "# when try block execute then only else block executes\n",
    "\n",
    "# The except block lets you handle the error.\n",
    "# The finally block will be executed no matter if the try block raises an error or not.\n",
    "# This can be useful to close objects and clean up resources.\n",
    "# The raise keyword is used to raise an exception.\n",
    "# You can define what kind of error to raise, and the text to print to the user\n",
    "# Example:\n",
    "\n",
    "x = -1\n",
    "\n",
    "# if x < 0:\n",
    "   #  raise Exception(\"Sorry, no numbers below zero\")"
   ]
  },
  {
   "cell_type": "code",
   "execution_count": 14,
   "id": "2b2e926e-d9ff-4372-861d-973ba2358ec4",
   "metadata": {},
   "outputs": [],
   "source": [
    "# Custom exceptions are helpful in many situations. \n",
    "# They allow you to define your own error conditions and handle them in a more specific and meaningful way.\n",
    "# For example, let's say you are writing a program that reads data from a file. If the file is not found, \n",
    "# Python will raise a FileNotFoundError "
   ]
  },
  {
   "cell_type": "code",
   "execution_count": 15,
   "id": "ba8cd95e-8178-4d2c-a182-52ba3b81c834",
   "metadata": {},
   "outputs": [],
   "source": [
    "class Invalidage (Exception):\n",
    "    \n",
    "    def __init__(self,msg):\n",
    "        self.msg=msg\n",
    "    "
   ]
  },
  {
   "cell_type": "code",
   "execution_count": 18,
   "id": "7c49fd01-8743-4abb-a514-2c4262c7ca3e",
   "metadata": {},
   "outputs": [
    {
     "name": "stdin",
     "output_type": "stream",
     "text": [
      " Enter your age 150\n"
     ]
    },
    {
     "name": "stdout",
     "output_type": "stream",
     "text": [
      " invalid integer was entered\n"
     ]
    }
   ],
   "source": [
    "try:\n",
    "    age =int(input(\" Enter your age\")) \n",
    "    if age <0 or age >=120:\n",
    "        raise Invalidage ( \" sorry, the age does not seem valid\")\n",
    "    print(f\"you are {age} years old\")\n",
    "     \n",
    "except :\n",
    "    print ( \" invalid integer was entered\")"
   ]
  },
  {
   "cell_type": "code",
   "execution_count": null,
   "id": "1ba01e68-5edf-4fc2-8995-547cb6950bec",
   "metadata": {},
   "outputs": [],
   "source": []
  }
 ],
 "metadata": {
  "kernelspec": {
   "display_name": "Python 3 (ipykernel)",
   "language": "python",
   "name": "python3"
  },
  "language_info": {
   "codemirror_mode": {
    "name": "ipython",
    "version": 3
   },
   "file_extension": ".py",
   "mimetype": "text/x-python",
   "name": "python",
   "nbconvert_exporter": "python",
   "pygments_lexer": "ipython3",
   "version": "3.10.8"
  }
 },
 "nbformat": 4,
 "nbformat_minor": 5
}
